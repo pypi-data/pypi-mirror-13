{
 "cells": [
  {
   "cell_type": "markdown",
   "metadata": {},
   "source": [
    "# Zetup"
   ]
  },
  {
   "cell_type": "markdown",
   "metadata": {},
   "source": [
    "[![](http://www.gnu.org/graphics/lgplv3-88x31.png)](\n",
    "  https://gnu.org/licenses/lgpl.html)\n",
    "[![](https://img.shields.io/pypi/pyversions/zetup.svg)](\n",
    "  https://python.org)"
   ]
  },
  {
   "cell_type": "markdown",
   "metadata": {},
   "source": [
    "[![](https://img.shields.io/pypi/v/zetup.svg)](\n",
    "  https://pypi.python.org/pypi/zetup)\n",
    "[![](https://img.shields.io/pypi/dd/zetup.svg)](\n",
    "  https://pypi.python.org/pypi/zetup)"
   ]
  },
  {
   "cell_type": "markdown",
   "metadata": {},
   "source": [
    "[![](https://travis-ci.org/userzimmermann/zetup.py.svg?branch=master)](\n",
    "  https://travis-ci.org/userzimmermann/zetup.py)\n",
    "[![Build status](https://ci.appveyor.com/api/projects/status/3wm8jnisoft5x7qr?svg=true)](\n",
    "  https://ci.appveyor.com/project/userzimmermann/zetup-py)"
   ]
  },
  {
   "cell_type": "markdown",
   "metadata": {},
   "source": [
    "## Zimmermann's Python Package Setup"
   ]
  },
  {
   "cell_type": "markdown",
   "metadata": {},
   "source": [
    "* https://bitbucket.org/userzimmermann/zetup.py\n",
    "* https://github.com/userzimmermann/zetup.py\n",
    "* https://www.openhub.net/p/python-zetup"
   ]
  }
 ],
 "metadata": {
  "kernelspec": {
   "display_name": "Python 3",
   "language": "python",
   "name": "python3"
  },
  "language_info": {
   "codemirror_mode": {
    "name": "ipython",
    "version": 3
   },
   "file_extension": ".py",
   "mimetype": "text/x-python",
   "name": "python",
   "nbconvert_exporter": "python",
   "pygments_lexer": "ipython3",
   "version": "3.4.3"
  }
 },
 "nbformat": 4,
 "nbformat_minor": 0
}
