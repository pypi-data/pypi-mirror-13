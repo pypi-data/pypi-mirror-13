{
 "cells": [
  {
   "cell_type": "markdown",
   "metadata": {},
   "source": [
    "# Test Sync_UI functionality of PyZOS"
   ]
  },
  {
   "cell_type": "code",
   "execution_count": 1,
   "metadata": {
    "collapsed": true
   },
   "outputs": [],
   "source": [
    "import os\n",
    "import pyzos.zos as zos\n",
    "import warnings\n",
    "warnings.simplefilter(action='ignore')"
   ]
  },
  {
   "cell_type": "markdown",
   "metadata": {},
   "source": [
    "## Test zPushLens() "
   ]
  },
  {
   "cell_type": "markdown",
   "metadata": {},
   "source": [
    "Build a basic optical system and Push to the UI"
   ]
  },
  {
   "cell_type": "code",
   "execution_count": 2,
   "metadata": {
    "collapsed": true
   },
   "outputs": [],
   "source": [
    "# Create an OpticalSystem instance with sync_ui parameter set to True\n",
    "\n",
    "osys = zos.OpticalSystem(sync_ui=True)"
   ]
  },
  {
   "cell_type": "code",
   "execution_count": 3,
   "metadata": {
    "collapsed": false
   },
   "outputs": [],
   "source": [
    "# Set aperture Aperture\n",
    "sdata = osys.pSystemData\n",
    "sdata.pAperture.pApertureValue = 40\n",
    "\n",
    "# Set fields\n",
    "field = sdata.pFields.AddField(0, 5.0, 1.0)\n",
    "\n",
    "# Set wavelength\n",
    "sdata.pWavelengths.SelectWavelengthPreset(zos.Const.WavelengthPreset_d_0p587);"
   ]
  },
  {
   "cell_type": "code",
   "execution_count": 4,
   "metadata": {
    "collapsed": true
   },
   "outputs": [],
   "source": [
    "# Create surfaces\n",
    "osys.zInsertNewSurfaceAt(1)\n",
    "osys.zInsertNewSurfaceAt(1)\n",
    "osys.zSetSurfaceData(1, thick=10, material='N-BK7', comment='front of lens')\n",
    "osys.zSetSurfaceData(2, thick=50, comment='rear of lens')\n",
    "osys.zSetSurfaceData(3, thick=350, comment='Stop is free to move')"
   ]
  },
  {
   "cell_type": "code",
   "execution_count": 5,
   "metadata": {
    "collapsed": false
   },
   "outputs": [],
   "source": [
    "osys.zPushLens(update=1) # with 1, the lens data will be updated in the UI"
   ]
  },
  {
   "cell_type": "code",
   "execution_count": 6,
   "metadata": {
    "collapsed": false
   },
   "outputs": [
    {
     "data": {
      "text/plain": [
       "True"
      ]
     },
     "execution_count": 6,
     "metadata": {},
     "output_type": "execute_result"
    }
   ],
   "source": [
    "# Set solves on surfaces\n",
    "osys.pLDE.GetSurfaceAt(1).pRadiusCell.MakeSolveVariable()\n",
    "osys.pLDE.GetSurfaceAt(1).pThicknessCell.MakeSolveVariable()\n",
    "osys.pLDE.GetSurfaceAt(2).pRadiusCell.MakeSolveVariable()\n",
    "osys.pLDE.GetSurfaceAt(2).pThicknessCell.MakeSolveVariable()\n",
    "osys.pLDE.GetSurfaceAt(3).pThicknessCell.MakeSolveVariable()"
   ]
  },
  {
   "cell_type": "code",
   "execution_count": 7,
   "metadata": {
    "collapsed": false
   },
   "outputs": [],
   "source": [
    "osys.zSetDefaultMeritFunctionSEQ(ofType=0, ofData=1, ofRef=0, rings=2, \n",
    "                                 arms=0, grid=0, useGlass=True, glassMin=3, \n",
    "                                 glassMax=15, glassEdge=3, useAir=True, \n",
    "                                 airMin=0.5, airMax=1000, airEdge=0.5)"
   ]
  },
  {
   "cell_type": "code",
   "execution_count": 8,
   "metadata": {
    "collapsed": false
   },
   "outputs": [],
   "source": [
    "osys.zPushLens(1)"
   ]
  },
  {
   "cell_type": "code",
   "execution_count": 9,
   "metadata": {
    "collapsed": false
   },
   "outputs": [],
   "source": [
    "# Additional Operand\n",
    "mfe = osys.pMFE\n",
    "operand1 = mfe.InsertNewOperandAt(1)\n",
    "operand1 = zos.wrapped_zos_object(operand1)\n",
    "operand1.ChangeType(zos.Const.MeritOperandType_EFFL)\n",
    "operand1.pTarget = 400.0\n",
    "operand1.pWeight = 1.0"
   ]
  },
  {
   "cell_type": "code",
   "execution_count": 10,
   "metadata": {
    "collapsed": false
   },
   "outputs": [],
   "source": [
    "osys.zPushLens(1)"
   ]
  },
  {
   "cell_type": "code",
   "execution_count": 11,
   "metadata": {
    "collapsed": false
   },
   "outputs": [
    {
     "data": {
      "text/plain": [
       "True"
      ]
     },
     "execution_count": 11,
     "metadata": {},
     "output_type": "execute_result"
    }
   ],
   "source": [
    "# Local optimization\n",
    "local_opt = osys.pTools.OpenLocalOptimization()\n",
    "local_opt.pAlgorithm = zos.Const.OptimizationAlgorithm_DampedLeastSquares\n",
    "local_opt.pCycles = zos.Const.OptimizationCycles_Automatic\n",
    "local_opt.pNumberOfCores = 8\n",
    "local_opt.RunAndWaitForCompletion()\n",
    "local_opt.Close()"
   ]
  },
  {
   "cell_type": "code",
   "execution_count": 12,
   "metadata": {
    "collapsed": false
   },
   "outputs": [],
   "source": [
    "osys.zPushLens(1)"
   ]
  },
  {
   "cell_type": "code",
   "execution_count": 13,
   "metadata": {
    "collapsed": false
   },
   "outputs": [],
   "source": [
    "# Save lens file (optional)\n",
    "sdir = osys.pTheApplication.pSamplesDir\n",
    "file_out = os.path.join(sdir, 'Sequential', 'Objectives', \n",
    "                        'Single Lens Example wizard+EFFL.zmx')\n",
    "osys.SaveAs(file_out)"
   ]
  },
  {
   "cell_type": "code",
   "execution_count": null,
   "metadata": {
    "collapsed": true
   },
   "outputs": [],
   "source": []
  },
  {
   "cell_type": "markdown",
   "metadata": {},
   "source": [
    "## Test zGetRefresh()"
   ]
  },
  {
   "cell_type": "code",
   "execution_count": 14,
   "metadata": {
    "collapsed": false
   },
   "outputs": [],
   "source": [
    "# LDE\n",
    "lde = osys.pLDE"
   ]
  },
  {
   "cell_type": "markdown",
   "metadata": {},
   "source": [
    "We will change the thickness of surface 2 in the UI."
   ]
  },
  {
   "cell_type": "code",
   "execution_count": 15,
   "metadata": {
    "collapsed": true
   },
   "outputs": [],
   "source": [
    "# Get row 2\n",
    "row2 = lde.GetRowAt(2)"
   ]
  },
  {
   "cell_type": "code",
   "execution_count": 16,
   "metadata": {
    "collapsed": false
   },
   "outputs": [
    {
     "data": {
      "text/plain": [
       "94.10279977269181"
      ]
     },
     "execution_count": 16,
     "metadata": {},
     "output_type": "execute_result"
    }
   ],
   "source": [
    "thickness2 = zos.wrapped_zos_object(row2.GetCellAt(3)).pValue\n",
    "float(thickness2)"
   ]
  },
  {
   "cell_type": "markdown",
   "metadata": {},
   "source": [
    "Change the thickness value in the UI manually."
   ]
  },
  {
   "cell_type": "code",
   "execution_count": 17,
   "metadata": {
    "collapsed": false
   },
   "outputs": [],
   "source": [
    "osys.zGetRefresh() # zGetRefresh to update the lens in the COM server"
   ]
  },
  {
   "cell_type": "code",
   "execution_count": 18,
   "metadata": {
    "collapsed": false
   },
   "outputs": [
    {
     "data": {
      "text/plain": [
       "150.0"
      ]
     },
     "execution_count": 18,
     "metadata": {},
     "output_type": "execute_result"
    }
   ],
   "source": [
    "thickness2 = zos.wrapped_zos_object(row2.GetCellAt(3)).pValue\n",
    "float(thickness2)"
   ]
  },
  {
   "cell_type": "code",
   "execution_count": 19,
   "metadata": {
    "collapsed": false
   },
   "outputs": [],
   "source": [
    "osys.New(False)"
   ]
  },
  {
   "cell_type": "code",
   "execution_count": 20,
   "metadata": {
    "collapsed": true
   },
   "outputs": [],
   "source": [
    "osys.zPushLens(1)"
   ]
  },
  {
   "cell_type": "code",
   "execution_count": null,
   "metadata": {
    "collapsed": true
   },
   "outputs": [],
   "source": []
  }
 ],
 "metadata": {
  "kernelspec": {
   "display_name": "Python 2",
   "language": "python",
   "name": "python2"
  },
  "language_info": {
   "codemirror_mode": {
    "name": "ipython",
    "version": 2
   },
   "file_extension": ".py",
   "mimetype": "text/x-python",
   "name": "python",
   "nbconvert_exporter": "python",
   "pygments_lexer": "ipython2",
   "version": "2.7.11"
  }
 },
 "nbformat": 4,
 "nbformat_minor": 0
}
