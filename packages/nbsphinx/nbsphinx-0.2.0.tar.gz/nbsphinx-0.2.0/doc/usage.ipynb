{
 "cells": [
  {
   "cell_type": "markdown",
   "metadata": {},
   "source": [
    "# Usage\n",
    "\n",
    "Install `nbsphinx` with pip (not available yet!) or copy the file [nbsphinx.py](../nbsphinx.py) to the directory where you want to set up Sphinx (this is typically the directory where you have your notebook files).\n",
    "\n",
    "In the same directory, run this command (assuming you have [Sphinx](http://sphinx-doc.org/) installed already):\n",
    "\n",
    "    sphinx-quickstart\n",
    "    \n",
    "Answer the questions that appear on the screen. In case of doubt, just press the `<Return>` key to take the default values.\n",
    "\n",
    "After that, there will be a few brand-new files in the current directory.\n",
    "You'll have to make a few changes to the file `conf.py`.\n",
    "Have a look at the [conf.py](conf.py) of `nbsphinx` for the details.\n",
    "\n",
    "Once your `conf.py` is in place, edit the file `index.rst` and add the file names of your notebooks (without the `.ipynb` extension) to the `toctree` directive.\n",
    "\n",
    "To create the HTML pages, use this command:\n",
    "\n",
    "    sphinx-build <source-dir> <build-dir>\n",
    "    \n",
    "If you have many notebooks, you can do a parallel build by using the `-j` option:\n",
    "\n",
    "    sphinx-build <source-dir> <build-dir> -j<number-of-processes>\n",
    "\n",
    "For example, if your source files are in the current directory and you have 4 CPU cores, you can run this:\n",
    "\n",
    "    sphinx-build . _build -j4\n",
    "    \n",
    "Afterwards, you can find the main HTML file in `_build/index.html`.\n",
    "\n",
    "To create LaTeX output, use:\n",
    "\n",
    "    sphinx-build <source-dir> <build-dir> -b latex\n",
    "    \n",
    "Subsequent builds will be faster, because only those source files which have changed will be re-built.\n",
    "To force re-building all source files, use the `-E` option."
   ]
  },
  {
   "cell_type": "markdown",
   "metadata": {},
   "source": [
    "## HTML Themes\n",
    "\n",
    "The `nbsphinx` extension does *not* provide its own theme, you can use any of the available themes or create a custom one, if you feel like it.\n",
    "\n",
    "Here are a few examples how the `nbsphinx` input and output cells look like in different themes:\n",
    "\n",
    "http://nbsphinx.readthedocs.org/en/readthedocs-theme/\n",
    "\n",
    "http://nbsphinx.readthedocs.org/en/alabaster-theme/\n",
    "\n",
    "http://nbsphinx.readthedocs.org/en/bootstrap-theme/\n",
    "\n",
    "http://nbsphinx.readthedocs.org/en/cloud-theme/\n",
    "\n",
    "http://nbsphinx.readthedocs.org/en/py3doc-enhanced-theme/"
   ]
  }
 ],
 "metadata": {
  "kernelspec": {
   "display_name": "Python 3",
   "language": "python",
   "name": "python3"
  },
  "language_info": {
   "codemirror_mode": {
    "name": "ipython",
    "version": 3
   },
   "file_extension": ".py",
   "mimetype": "text/x-python",
   "name": "python",
   "nbconvert_exporter": "python",
   "pygments_lexer": "ipython3",
   "version": "3.4.4rc1"
  }
 },
 "nbformat": 4,
 "nbformat_minor": 0
}
