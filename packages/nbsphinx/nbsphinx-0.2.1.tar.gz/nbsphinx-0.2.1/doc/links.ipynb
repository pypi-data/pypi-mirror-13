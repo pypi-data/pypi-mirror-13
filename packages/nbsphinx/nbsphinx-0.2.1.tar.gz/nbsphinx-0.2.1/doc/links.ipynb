{
 "cells": [
  {
   "cell_type": "markdown",
   "metadata": {},
   "source": [
    "# External Links\n",
    "\n",
    "https://github.com/ngoldbaum/RunNotebook\n",
    "\n",
    "https://bitbucket.org/yt_analysis/yt-doc/src/default/extensions/notebook_sphinxext.py\n",
    "\n",
    "https://github.com/matthew-brett/perrin-academy/blob/master/sphinxext/notebook_sphinxext.py\n",
    "\n",
    "http://sphinx-ipynb.readthedocs.org/\n",
    "\n",
    "http://dongweiming.github.io/divingintoipynb_nikola/posts/nbconvert.html\n",
    "\n",
    "https://github.com/ipython/ipython/issues/4936\n",
    "\n",
    "https://mail.scipy.org/pipermail/ipython-user/2013-December/013490.html\n",
    "\n",
    "https://github.com/ipython/nbconvert/pull/35\n",
    "\n",
    "https://github.com/matthew-brett/brole\n",
    "\n",
    "https://github.com/perrette/dimarray/blob/master/docs/scripts/nbconvert_to_rst.py\n",
    "\n",
    "https://github.com/matthew-brett/nb2plots\n",
    "\n",
    "https://github.com/getpelican/pelican-plugins/blob/master/liquid_tags/notebook.py\n",
    "\n",
    "https://github.com/jupyter/nbconvert/issues/47\n",
    "\n",
    "http://hplgit.github.io/doconce/doc/web/index.html\n",
    "\n",
    "http://sphinx-doc.org/extdev/\n",
    "\n",
    "https://github.com/sphinx-doc/sphinx/issues/1907"
   ]
  }
 ],
 "metadata": {
  "kernelspec": {
   "display_name": "Python 3",
   "language": "python",
   "name": "python3"
  },
  "language_info": {
   "codemirror_mode": {
    "name": "ipython",
    "version": 3
   },
   "file_extension": ".py",
   "mimetype": "text/x-python",
   "name": "python",
   "nbconvert_exporter": "python",
   "pygments_lexer": "ipython3",
   "version": "3.4.4rc1"
  }
 },
 "nbformat": 4,
 "nbformat_minor": 0
}
