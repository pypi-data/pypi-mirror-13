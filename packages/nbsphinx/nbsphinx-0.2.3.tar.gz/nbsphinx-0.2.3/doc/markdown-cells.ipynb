{
 "cells": [
  {
   "cell_type": "markdown",
   "metadata": {},
   "source": [
    "# Markdown Cells\n",
    "\n",
    "We can use *emphasis*, **boldface**, `preformatted text`.\n",
    "\n",
    "> It looks like strike-out text is not supported: ~~strikethrough~~.\n",
    "\n",
    "* Red\n",
    "* Green\n",
    "* Blue\n",
    "\n",
    "***\n",
    "\n",
    "1. One\n",
    "1. Two\n",
    "1. Three"
   ]
  },
  {
   "cell_type": "markdown",
   "metadata": {},
   "source": [
    "## Equations\n",
    "\n",
    "Equations can be formatted really nicely, either inline, like $\\text{e}^{i\\pi} = -1$, or on a separate line, like\n",
    "\n",
    "$$\n",
    "\\int_{-\\infty}^\\infty f(x) \\delta(x - x_0) dx = f(x_0)\n",
    "$$"
   ]
  },
  {
   "cell_type": "markdown",
   "metadata": {},
   "source": [
    "## Code\n",
    "\n",
    "We can also write code with nice syntax highlighting:\n",
    "\n",
    "```python\n",
    "print(\"Hello, world!\")\n",
    "```"
   ]
  },
  {
   "cell_type": "markdown",
   "metadata": {},
   "source": [
    "## Tables\n",
    "\n",
    "A     | B     | A and B\n",
    "------|-------|--------\n",
    "False | False | False\n",
    "True  | False | False\n",
    "False | True  | False\n",
    "True  | True  | True"
   ]
  },
  {
   "cell_type": "markdown",
   "metadata": {},
   "source": [
    "## Images\n",
    "\n",
    "PNG file (local): ![Jupyter notebook icon](images/notebook_icon.png)\n",
    "\n",
    "SVG file (local): ![Python logo](images/python_logo.svg)\n",
    "\n",
    "PNG file (remote): ![Python logo (remote)](https://www.python.org/static/img/python-logo-large.png)\n",
    "\n",
    "SVG file (remote): ![Jupyter logo (remote)](http://jupyter.org/assets/nav_logo.svg)"
   ]
  },
  {
   "cell_type": "markdown",
   "metadata": {},
   "source": [
    "## Links to Other Notebooks\n",
    "\n",
    "Relative links to local notebooks can be used: [a link to a notebook in a subdirectory](subdir/another.ipynb), [a link to an orphan notebook](orphan.ipynb) (latter won't work in LaTeX output, because orphan pages are not included there).\n",
    "\n",
    "This is how a link is created in Markdown:\n",
    "\n",
    "```\n",
    "[a link to a notebook in a subdirectory](subdir/another.ipynb)\n",
    "```\n",
    "\n",
    "Markdown also supports *reference-style* links: [a reference-style link][mylink], [another version of the same link][mylink].\n",
    "\n",
    "[mylink]: subdir/another.ipynb\n",
    "\n",
    "These can be created with this syntax:\n",
    "\n",
    "```\n",
    "[a reference-style link][mylink]\n",
    "\n",
    "[mylink]: subdir/another.ipynb\n",
    "```\n",
    "\n",
    "Links to sub-sections are also possible, e.g. [this subsection](subdir/another.ipynb#A-Sub-Section).\n",
    "\n",
    "This link was created with:\n",
    "\n",
    "```\n",
    "[this subsection](subdir/another.ipynb#A-Sub-Section)\n",
    "```\n",
    "\n",
    "You just have to remember to replace spaces with hyphens!\n",
    "\n",
    "BTW, links to sections of the current notebook work, too, e.g. [beginning of this section](#Links-to-Other-Notebooks).\n",
    "\n",
    "This can be done, as expected, like this:\n",
    "\n",
    "```\n",
    "[beginning of this section](#Links-to-Other-Notebooks)\n",
    "```"
   ]
  },
  {
   "cell_type": "markdown",
   "metadata": {},
   "source": [
    "## Links to Local Files\n",
    "\n",
    "Links to local files (other than Jupyter notebooks) are also possible, e.g. [requirements.txt](requirements.txt).\n",
    "\n",
    "This was simply created with:\n",
    "\n",
    "```\n",
    "[requirements.txt](requirements.txt)\n",
    "```\n",
    "\n",
    "The linked files are automatically copied to the HTML output directory."
   ]
  }
 ],
 "metadata": {
  "celltoolbar": "Raw Cell Format",
  "kernelspec": {
   "display_name": "Python 3",
   "language": "python",
   "name": "python3"
  },
  "language_info": {
   "codemirror_mode": {
    "name": "ipython",
    "version": 3
   },
   "file_extension": ".py",
   "mimetype": "text/x-python",
   "name": "python",
   "nbconvert_exporter": "python",
   "pygments_lexer": "ipython3",
   "version": "3.4.4"
  }
 },
 "nbformat": 4,
 "nbformat_minor": 0
}
