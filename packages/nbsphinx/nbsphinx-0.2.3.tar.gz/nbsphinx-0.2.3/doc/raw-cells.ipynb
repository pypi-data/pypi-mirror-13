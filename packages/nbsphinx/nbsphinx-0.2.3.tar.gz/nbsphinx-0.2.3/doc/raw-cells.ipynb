{
 "cells": [
  {
   "cell_type": "markdown",
   "metadata": {},
   "source": [
    "# Raw Cells\n",
    "\n",
    "Cells with the cell type \"Raw NBConvert\" can have different formats.\n",
    "This information is stored in the notebook metadata.\n",
    "To select the format from within Jupyter, switch the cell toolbar to \"Raw Cell Format\"."
   ]
  },
  {
   "cell_type": "raw",
   "metadata": {},
   "source": [
    "By default (if no cell format is selected), the cell content is included (without any conversion) in both the HTML and LaTeX output.\n",
    "This is typically not useful at all."
   ]
  },
  {
   "cell_type": "raw",
   "metadata": {
    "raw_mimetype": "text/restructuredtext"
   },
   "source": [
    "Raw cells in \"reST\" format are interpreted as reStructuredText_ and parsed by Sphinx_.\n",
    "The result is visible in both HTML and LaTeX output.\n",
    "This way, links from Jupyter notebooks to reST pages are possible, e.g. :doc:`rst`.\n",
    "\n",
    ".. _reStructuredText: http://sphinx-doc.org/rest.html\n",
    ".. _Sphinx: http://sphinx-doc.org/"
   ]
  },
  {
   "cell_type": "raw",
   "metadata": {
    "raw_mimetype": "text/markdown"
   },
   "source": [
    "Raw cells in \"Markdown\" format are interpreted as [Markdown](https://daringfireball.net/projects/markdown/) and the result is included in both HTML and LaTeX output.\n",
    "Since the Jupyter Notebook also supports \"normal\" Markdown cells, this might not be useful *at all*."
   ]
  },
  {
   "cell_type": "raw",
   "metadata": {
    "raw_mimetype": "text/html"
   },
   "source": [
    "<p>Raw cells in &ldquo;HTML&rdquo; format are only included in HTML output (without any conversion).\n",
    "This might not be <em>very useful</em>, since raw HTML code is also allowed within &ldquo;normal&rdquo; Markdown cells.</p>\n",
    "<p>Raw cells in &ldquo;LaTeX&rdquo; format are only included in LaTeX output.</p>"
   ]
  },
  {
   "cell_type": "raw",
   "metadata": {
    "raw_mimetype": "text/latex"
   },
   "source": [
    "Raw cells in ``LaTeX'' format are only included in \\LaTeX\\ output (without any conversion).\n",
    "\n",
    "Raw cells in ``HTML'' format are only included in HTML output.\n",
    "This might not be \\emph{very useful}, since raw HTML code is also allowed within ``normal'' Markdown cells."
   ]
  },
  {
   "cell_type": "markdown",
   "metadata": {},
   "source": [
    "Raw cells in \"Python\" format are not shown at all (nor acted upon in any way)."
   ]
  },
  {
   "cell_type": "raw",
   "metadata": {
    "raw_mimetype": "text/x-python"
   },
   "source": [
    "print(\"I'm a raw Python cell!\")"
   ]
  }
 ],
 "metadata": {
  "celltoolbar": "Raw Cell Format",
  "kernelspec": {
   "display_name": "Python 3",
   "language": "python",
   "name": "python3"
  },
  "language_info": {
   "codemirror_mode": {
    "name": "ipython",
    "version": 3
   },
   "file_extension": ".py",
   "mimetype": "text/x-python",
   "name": "python",
   "nbconvert_exporter": "python",
   "pygments_lexer": "ipython3",
   "version": "3.4.4"
  }
 },
 "nbformat": 4,
 "nbformat_minor": 0
}
