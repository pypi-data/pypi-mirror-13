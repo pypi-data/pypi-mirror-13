{
 "metadata": {
  "name": ""
 },
 "nbformat": 3,
 "nbformat_minor": 0,
 "worksheets": [
  {
   "cells": [
    {
     "cell_type": "markdown",
     "metadata": {},
     "source": [
      "### Sequence input/output and complex DNA sequences\n",
      "\n",
      "More complex sequences (like plasmids) have many annotated pieces and benefit from other methods. `sequence.DNA` has many methods for accessing and modifying complex sequences.\n",
      "\n",
      "The following sequence is a plasmid that integrates at the *S. cerevisiae* HO locus via ends-out integration, inserting the GEV transactivator from McIsaac et al. 2011:"
     ]
    },
    {
     "cell_type": "code",
     "collapsed": false,
     "input": [
      "import coral as cor"
     ],
     "language": "python",
     "metadata": {},
     "outputs": [],
     "prompt_number": 1
    },
    {
     "cell_type": "code",
     "collapsed": false,
     "input": [
      "pKL278 = cor.seqio.read_dna('./files_for_tutorial/maps/pMODKan-HO-pACT1GEV.ape')"
     ],
     "language": "python",
     "metadata": {},
     "outputs": [],
     "prompt_number": 2
    },
    {
     "cell_type": "markdown",
     "metadata": {},
     "source": [
      "Sequences have `.name` and `.id` attributes that are empty string by default. By convention, you should fill them with appropriate strings for your use case - the name is a human-readable name while id should be a unique number or string."
     ]
    },
    {
     "cell_type": "code",
     "collapsed": false,
     "input": [
      "pKL278.name  # Raw genbank name field - truncated due to genbank specifications"
     ],
     "language": "python",
     "metadata": {},
     "outputs": [
      {
       "metadata": {},
       "output_type": "pyout",
       "prompt_number": 3,
       "text": [
        "'pMODKan_HO_pACT1GE'"
       ]
      }
     ],
     "prompt_number": 3
    },
    {
     "cell_type": "markdown",
     "metadata": {},
     "source": [
      "Large sequences have summary representations, useful for getting a general idea of which sequence you're manipulating"
     ]
    },
    {
     "cell_type": "code",
     "collapsed": false,
     "input": [
      "pKL278  # The sequence representation - shows ~40 bases on each side."
     ],
     "language": "python",
     "metadata": {},
     "outputs": [
      {
       "metadata": {},
       "output_type": "pyout",
       "prompt_number": 4,
       "text": [
        "circular dsDNA:\n",
        "TCGCGCGTTTCGGTGATGACGGTGAAAACCTCTGACACAT ... TTAACCTATAAAAATAGGCGTATCACGAGGCCCTTTCGTC\n",
        "AGCGCGCAAAGCCACTACTGCCACTTTTGGAGACTGTGTA ... AATTGGATATTTTTATCCGCATAGTGCTCCGGGAAAGCAG"
       ]
      }
     ],
     "prompt_number": 4
    },
    {
     "cell_type": "markdown",
     "metadata": {},
     "source": [
      "Complex sequences usually have annotations to categorize functional or important elements. This plasmid has a lot of features - it's a yeast shuttle vector, so it has sequences for propagating in *E. coli*, sequences for integrating into the *S. cerevisiae* genome, sequences for selection after transformation, and an expression cassette (promoter, gene, terminator). In addition, it has common primer sites and annotated subsequences."
     ]
    },
    {
     "cell_type": "code",
     "collapsed": false,
     "input": [
      "pKL278.features  # Man that's way too many features"
     ],
     "language": "python",
     "metadata": {},
     "outputs": [
      {
       "metadata": {},
       "output_type": "pyout",
       "prompt_number": 5,
       "text": [
        "[pGEX_3_primer 'misc_feature' feature (28 to 51) on strand 1,\n",
        " pMOD_t1pre 'misc_feature' feature (132 to 154) on strand 0,\n",
        " PmeI(1) 'misc_feature' feature (154 to 162) on strand 0,\n",
        " HO Targeting 1 'misc_feature' feature (162 to 725) on strand 0,\n",
        " pMOD_t1suf 'misc_feature' feature (725 to 755) on strand 0,\n",
        " KANMX Wach et al 1994 (genome del. project) 'misc_feature' feature (755 to 1152) on strand 0,\n",
        " KanMX CDS 'misc_feature' feature (1152 to 1962) on strand 0,\n",
        " KanMX terminator 'misc_feature' feature (1962 to 2200) on strand 0,\n",
        " M13 Forward (-47) primer 'primer_bind' feature (2200 to 2224) on strand 0,\n",
        " pACT1 'misc_feature' feature (2224 to 2885) on strand 0,\n",
        " Extra sequence not found in Gottschling map 'misc_feature' feature (2921 to 2932) on strand 0,\n",
        " GAL4(1-93) DBD 'misc_feature' feature (2940 to 3218) on strand 0,\n",
        " Differs from Gottschling map (backbone) 'misc_feature' feature (3218 to 3219) on strand 0,\n",
        " hER HBD 'misc_feature' feature (3255 to 4140) on strand 0,\n",
        " HSV1 VP16 'misc_feature' feature (4140 to 4344) on strand 0,\n",
        " Differs from Gottschling Map 'misc_feature' feature (4235 to 4236) on strand 0,\n",
        " stop codon 'misc_feature' feature (4344 to 4347) on strand 0,\n",
        " L2 'misc_feature' feature (4347 to 4377) on strand 0,\n",
        " T + pBluescript KS linker 'misc_feature' feature (4377 to 4399) on strand 0,\n",
        " CYC1 'terminator' feature (4403 to 4643) on strand 0,\n",
        " pYESTrp_rev primer 'primer_bind' feature (4412 to 4431) on strand 1,\n",
        " T7 EEV primer 'primer_bind' feature (4643 to 4665) on strand 0,\n",
        " upstream HO targeting 'misc_feature' feature (4665 to 5571) on strand 0,\n",
        " PmeI 'misc_feature' feature (5571 to 5579) on strand 0,\n",
        " PmeI site 'misc_feature' feature (5571 to 5579) on strand 0,\n",
        " M13R 'misc_feature' feature (5579 to 5619) on strand 0,\n",
        " origin-extended 'misc_feature' feature (5804 to 5889) on strand 0,\n",
        " ori 'misc_feature' feature (5889 to 6744) on strand 0,\n",
        " is a g in normal maps. 'misc_feature' feature (6426 to 6427) on strand 0,\n",
        " bla 'misc_feature' feature (6744 to 7605) on strand 0,\n",
        " AmpR promoter 'misc_feature' feature (7605 to 7684) on strand 0,\n",
        " New Feature 'misc_feature' feature (7684 to 7704) on strand 0]"
       ]
      }
     ],
     "prompt_number": 5
    },
    {
     "cell_type": "markdown",
     "metadata": {},
     "source": [
      "With all of these features, manual slicing is inconvenient. The `.extract()` method makes it easy to isolate features from a complex sequence:"
     ]
    },
    {
     "cell_type": "code",
     "collapsed": false,
     "input": [
      "# The beta-lactamase coding sequence, essential for propagation in *E. coli* on Amp/Carb media.\n",
      "# Note that it is transcribed in the direction of the bottom strand (right to left on this sequence)\n",
      "pKL278.extract('bla')"
     ],
     "language": "python",
     "metadata": {},
     "outputs": [
      {
       "metadata": {},
       "output_type": "pyout",
       "prompt_number": 6,
       "text": [
        "linear dsDNA:\n",
        "TTACCAATGCTTAATCAGTGAGGCACCTATCTCAGCGATC ... AAAAGGGAATAAGGGCGACACGGAAATGTTGAATACTCAT\n",
        "AATGGTTACGAATTAGTCACTCCGTGGATAGAGTCGCTAG ... TTTTCCCTTATTCCCGCTGTGCCTTTACAACTTATGAGTA"
       ]
      }
     ],
     "prompt_number": 6
    },
    {
     "cell_type": "markdown",
     "metadata": {},
     "source": [
      "The `.features` attribute is just a list of `sequence.Feature` objects - you can add or remove them at will using standard python list methods (like `.pop` and `.append`). The use of `sequence.Feature` will be covered in a different tutorial."
     ]
    },
    {
     "cell_type": "markdown",
     "metadata": {},
     "source": [
      "In addition, you can efficiently match patterns in your sequence using `.locate()`, which searches for a string on both the top and bottom strands, returning a tuple containing the indexes of the matches (top and bottom strands). In the following case, there are 8 matches for the top strand and 5 for the bottom strand. In the case of a palindromic query, only the top strand is reported."
     ]
    },
    {
     "cell_type": "code",
     "collapsed": false,
     "input": [
      "pKL278.locate('atgcc')  # All occurrences of the pattern atgcc on the top and bottom strands (both 5'->3')"
     ],
     "language": "python",
     "metadata": {},
     "outputs": [
      {
       "metadata": {},
       "output_type": "pyout",
       "prompt_number": 7,
       "text": [
        "[[78, 286, 1380, 2431, 4177, 4315, 7261, 7556], [737, 3718, 3828, 4131, 6939]]"
       ]
      }
     ],
     "prompt_number": 7
    },
    {
     "cell_type": "markdown",
     "metadata": {},
     "source": [
      "### Other methods\n",
      "\n",
      "There are additional methods that can't be (easily) demonstrated in this tutorial.\n",
      "\n",
      "The `.ape()` method will launch ApE with your sequence if it is found in your PATH environment variable. This enables some convenient analyses that are faster with a GUI like simulating a digest or viewing the general layout of annotations."
     ]
    },
    {
     "cell_type": "code",
     "collapsed": false,
     "input": [],
     "language": "python",
     "metadata": {},
     "outputs": []
    }
   ],
   "metadata": {}
  }
 ]
}
