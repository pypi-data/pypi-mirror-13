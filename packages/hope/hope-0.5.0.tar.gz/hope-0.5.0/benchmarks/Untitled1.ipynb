{
 "cells": [
  {
   "cell_type": "code",
   "execution_count": 1,
   "metadata": {
    "collapsed": false
   },
   "outputs": [
    {
     "data": {
      "text/plain": [
       "'/Users/jakeret/workspace/hope/hope/__init__.pyc'"
      ]
     },
     "execution_count": 1,
     "metadata": {},
     "output_type": "execute_result"
    }
   ],
   "source": [
    "import hope\n",
    "import numpy as np\n",
    "\n",
    "hope.config.keeptemp = True\n",
    "hope.config.verbose = True\n",
    "hope.__file__"
   ]
  },
  {
   "cell_type": "code",
   "execution_count": 2,
   "metadata": {
    "collapsed": true
   },
   "outputs": [],
   "source": [
    "!rm -r .hope/"
   ]
  },
  {
   "cell_type": "code",
   "execution_count": 3,
   "metadata": {
    "collapsed": true
   },
   "outputs": [],
   "source": [
    "@hope.jit\n",
    "def fkt_segfault(out):\n",
    "    return out"
   ]
  },
  {
   "cell_type": "code",
   "execution_count": 4,
   "metadata": {
    "collapsed": true
   },
   "outputs": [],
   "source": [
    "def call_fkt_segfault():\n",
    "    out = np.zeros((500,500))\n",
    "    out = fkt_segfault(out)"
   ]
  },
  {
   "cell_type": "code",
   "execution_count": 5,
   "metadata": {
    "collapsed": false
   },
   "outputs": [
    {
     "name": "stdout",
     "output_type": "stream",
     "text": [
      "Compiling following functions:\n",
      "fkt_segfault(float64^2 out)\n",
      "running build_ext\n",
      "building 'fkt_segfault_876736c3b3e359c141b4779cc9a01e201a6f137809a66765fc0bb686_0' extension\n",
      "C compiler: /usr/bin/clang -fno-strict-aliasing -fno-common -dynamic -pipe -Os -fwrapv -DNDEBUG -g -fwrapv -O3 -Wall\n",
      "\n",
      "compile options: '-I/Users/jakeret/Library/Python/2.7/lib/python/site-packages/numpy/core/include -I/opt/local/Library/Frameworks/Python.framework/Versions/2.7/include/python2.7 -c'\n",
      "extra options: '-Wall -Wno-unused-variable -march=native -stdlib=libc++ -std=c++11'\n",
      "clang: /var/folders/k_/ttz9cd4d3kj2kbh3lvtn6tkm0000gn/T/hope5fo1Ta/fkt_segfault_876736c3b3e359c141b4779cc9a01e201a6f137809a66765fc0bb686_0.cpp\n",
      "/usr/bin/clang++ -bundle -undefined dynamic_lookup -L/opt/local/lib -Wl,-headerpad_max_install_names -L/opt/local/lib/db48 /var/folders/k_/ttz9cd4d3kj2kbh3lvtn6tkm0000gn/T/hope5fo1Ta/fkt_segfault_876736c3b3e359c141b4779cc9a01e201a6f137809a66765fc0bb686_0.o -o /var/folders/k_/ttz9cd4d3kj2kbh3lvtn6tkm0000gn/T/hope5fo1Ta/fkt_segfault_876736c3b3e359c141b4779cc9a01e201a6f137809a66765fc0bb686_0.so\n",
      "\n"
     ]
    }
   ],
   "source": [
    "out = np.zeros((500,500))\n",
    "out = fkt_segfault(out)"
   ]
  },
  {
   "cell_type": "code",
   "execution_count": 6,
   "metadata": {
    "collapsed": true
   },
   "outputs": [],
   "source": [
    "out = np.zeros((500,500))"
   ]
  },
  {
   "cell_type": "code",
   "execution_count": 7,
   "metadata": {
    "collapsed": false
   },
   "outputs": [],
   "source": [
    "call_fkt_segfault()\n",
    "out = np.zeros((500,500))"
   ]
  },
  {
   "cell_type": "code",
   "execution_count": null,
   "metadata": {
    "collapsed": false
   },
   "outputs": [],
   "source": []
  },
  {
   "cell_type": "code",
   "execution_count": null,
   "metadata": {
    "collapsed": true
   },
   "outputs": [],
   "source": []
  },
  {
   "cell_type": "code",
   "execution_count": null,
   "metadata": {
    "collapsed": true
   },
   "outputs": [],
   "source": []
  }
 ],
 "metadata": {
  "kernelspec": {
   "display_name": "Python 2",
   "language": "python",
   "name": "python2"
  },
  "language_info": {
   "codemirror_mode": {
    "name": "ipython",
    "version": 2
   },
   "file_extension": ".py",
   "mimetype": "text/x-python",
   "name": "python",
   "nbconvert_exporter": "python",
   "pygments_lexer": "ipython2",
   "version": "2.7.10"
  }
 },
 "nbformat": 4,
 "nbformat_minor": 0
}
