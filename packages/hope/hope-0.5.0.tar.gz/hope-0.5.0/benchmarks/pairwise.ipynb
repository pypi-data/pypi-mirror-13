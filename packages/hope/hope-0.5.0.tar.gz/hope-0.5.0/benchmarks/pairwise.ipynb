{
 "cells": [
  {
   "cell_type": "code",
   "execution_count": 1,
   "metadata": {
    "collapsed": false
   },
   "outputs": [
    {
     "name": "stdout",
     "output_type": "stream",
     "text": [
      "The Cython magic has been move to the Cython package, hence \n",
      "`%load_ext cythonmagic` is deprecated; Please use `%load_ext Cython` instead.\n",
      "You need Cython version >=0.21 to use the Cython magic\n"
     ]
    },
    {
     "name": "stderr",
     "output_type": "stream",
     "text": [
      "/Users/jakeret/Library/Python/2.7/lib/python/site-packages/IPython/core/formatters.py:832: FormatterWarning: JSON expects JSONable list/dict containers, not JSON strings\n",
      "  FormatterWarning)\n"
     ]
    },
    {
     "data": {
      "application/json": {
       "Software versions": [
        {
         "module": "Python",
         "version": "2.7.10 64bit [GCC 4.2.1 Compatible Apple LLVM 5.1 (clang-503.0.40)]"
        },
        {
         "module": "IPython",
         "version": "3.0.0"
        },
        {
         "module": "OS",
         "version": "Darwin 13.4.0 x86_64 i386 64bit"
        },
        {
         "module": "numpy",
         "version": "1.8.1"
        },
        {
         "module": "Cython",
         "version": "0.20.2"
        },
        {
         "module": "numba",
         "version": "0.20.0"
        },
        {
         "module": "hope",
         "version": "0.4.0"
        }
       ]
      },
      "text/html": [
       "<table><tr><th>Software</th><th>Version</th></tr><tr><td>Python</td><td>2.7.10 64bit [GCC 4.2.1 Compatible Apple LLVM 5.1 (clang-503.0.40)]</td></tr><tr><td>IPython</td><td>3.0.0</td></tr><tr><td>OS</td><td>Darwin 13.4.0 x86_64 i386 64bit</td></tr><tr><td>numpy</td><td>1.8.1</td></tr><tr><td>Cython</td><td>0.20.2</td></tr><tr><td>numba</td><td>0.20.0</td></tr><tr><td>hope</td><td>0.4.0</td></tr><tr><td colspan='2'>Thu Jul 16 17:38:42 2015 CEST</td></tr></table>"
      ],
      "text/latex": [
       "\\begin{tabular}{|l|l|}\\hline\n",
       "{\\bf Software} & {\\bf Version} \\\\ \\hline\\hline\n",
       "Python & 2.7.10 64bit [GCC 4.2.1 Compatible Apple LLVM 5.1 (clang-503.0.40)] \\\\ \\hline\n",
       "IPython & 3.0.0 \\\\ \\hline\n",
       "OS & Darwin 13.4.0 x86\\_64 i386 64bit \\\\ \\hline\n",
       "numpy & 1.8.1 \\\\ \\hline\n",
       "Cython & 0.20.2 \\\\ \\hline\n",
       "numba & 0.20.0 \\\\ \\hline\n",
       "hope & 0.4.0 \\\\ \\hline\n",
       "\\hline \\multicolumn{2}{|l|}{Thu Jul 16 17:38:42 2015 CEST} \\\\ \\hline\n",
       "\\end{tabular}\n"
      ],
      "text/plain": [
       "Software versions\n",
       "Python 2.7.10 64bit [GCC 4.2.1 Compatible Apple LLVM 5.1 (clang-503.0.40)]\n",
       "IPython 3.0.0\n",
       "OS Darwin 13.4.0 x86_64 i386 64bit\n",
       "numpy 1.8.1\n",
       "Cython 0.20.2\n",
       "numba 0.20.0\n",
       "hope 0.4.0\n",
       "Thu Jul 16 17:38:42 2015 CEST"
      ]
     },
     "execution_count": 1,
     "metadata": {},
     "output_type": "execute_result"
    }
   ],
   "source": [
    "import hope\n",
    "hope.config.optimize = True\n",
    "hope.config.verbose = True\n",
    "hope.config.keeptemp = True\n",
    "import numba\n",
    "import numpy as np\n",
    "from util import perf_comp_data\n",
    "from native_util import load\n",
    "%load_ext cythonmagic\n",
    "%load_ext version_information\n",
    "%version_information numpy, Cython, numba, hope"
   ]
  },
  {
   "cell_type": "code",
   "execution_count": 2,
   "metadata": {
    "collapsed": false
   },
   "outputs": [],
   "source": [
    "# Pure python version\n",
    "\n",
    "def pairwise_python(X, D):\n",
    "    M = X.shape[0]\n",
    "    N = X.shape[1]\n",
    "    for i in range(M):\n",
    "        for j in range(M):\n",
    "            d = 0.0\n",
    "            for k in range(N):\n",
    "                tmp = X[i, k] - X[j, k]\n",
    "                d += tmp * tmp\n",
    "            D[i, j] = np.sqrt(d)"
   ]
  },
  {
   "cell_type": "code",
   "execution_count": 3,
   "metadata": {
    "collapsed": false
   },
   "outputs": [],
   "source": [
    "# Numpy python version\n",
    "\n",
    "def pairwise_numpy(X, D):\n",
    "    M = X.shape[0]\n",
    "    for i in range(M):\n",
    "        D[i, :] = np.sqrt(np.sum((X[i, :] - X[:]) ** 2, axis=1))"
   ]
  },
  {
   "cell_type": "code",
   "execution_count": 4,
   "metadata": {
    "collapsed": false
   },
   "outputs": [],
   "source": [
    "# numba version\n",
    "@numba.jit(nopython=True)\n",
    "def pairwise_numba(X, D):\n",
    "    M = X.shape[0]\n",
    "    N = X.shape[1]\n",
    "    for i in range(M):\n",
    "        for j in range(M):\n",
    "            d = 0.0\n",
    "            for k in range(N):\n",
    "                tmp = X[i, k] - X[j, k]\n",
    "                d += tmp * tmp\n",
    "            D[i, j] = np.sqrt(d)"
   ]
  },
  {
   "cell_type": "code",
   "execution_count": 5,
   "metadata": {
    "collapsed": false
   },
   "outputs": [
    {
     "name": "stderr",
     "output_type": "stream",
     "text": [
      "ERROR: Cell magic `%%cython` not found.\n"
     ]
    }
   ],
   "source": [
    "%%cython\n",
    "\n",
    "cimport cython\n",
    "from libc.math cimport sqrt\n",
    "\n",
    "@cython.boundscheck(False)\n",
    "@cython.wraparound(False)\n",
    "def pairwise_cython(double[:, ::1] X, double[:, ::1] D):\n",
    "    cdef int M = X.shape[0]\n",
    "    cdef int N = X.shape[1]\n",
    "    cdef double tmp, d\n",
    "    for i in range(M):\n",
    "        for j in range(M):\n",
    "            d = 0.0\n",
    "            for k in range(N):\n",
    "                tmp = X[i, k] - X[j, k]\n",
    "                d += tmp * tmp\n",
    "            D[i, j] = sqrt(d)"
   ]
  },
  {
   "cell_type": "code",
   "execution_count": 6,
   "metadata": {
    "collapsed": false
   },
   "outputs": [],
   "source": [
    "# hope version\n",
    "@hope.jit\n",
    "def pairwise_hope(X, D, M, N):\n",
    "    for i in range(M):\n",
    "        for j in range(M):\n",
    "            d = 0.0\n",
    "            for k in range(N):\n",
    "                tmp = X[i, k] - X[j, k]\n",
    "                d += tmp * tmp\n",
    "            D[i, j] = np.sqrt(d)\n"
   ]
  },
  {
   "cell_type": "code",
   "execution_count": 7,
   "metadata": {
    "collapsed": false
   },
   "outputs": [
    {
     "name": "stdout",
     "output_type": "stream",
     "text": [
      "running build_ext\n",
      "building 'pairwise' extension\n",
      "C compiler: /usr/bin/clang -fno-strict-aliasing -fno-common -dynamic -pipe -Os -fwrapv -DNDEBUG -g -fwrapv -O3 -Wall -Wstrict-prototypes\n",
      "\n",
      "compile options: '-I/Users/jakeret/workspace/virtualenvs/hope_numba_benchmarks/lib/python2.7/site-packages/numpy/core/include -I/opt/local/Library/Frameworks/Python.framework/Versions/2.7/include/python2.7 -c'\n",
      "extra options: '-Wall -Wno-unused-variable -march=native -stdlib=libc++ -std=c++11'\n",
      "clang: ././src/pairwise.cpp\n",
      "/usr/bin/clang++ -bundle -undefined dynamic_lookup -L/opt/local/lib -Wl,-headerpad_max_install_names -L/opt/local/lib/db48 ./src/pairwise.o -o ./pairwise.so\n",
      "\n"
     ]
    }
   ],
   "source": [
    "from native_util import load\n",
    "\n",
    "native_pairwise_mod = load(\"pairwise\")\n",
    "pairwise_native = native_pairwise_mod.run"
   ]
  },
  {
   "cell_type": "code",
   "execution_count": 8,
   "metadata": {
    "collapsed": false
   },
   "outputs": [],
   "source": [
    "X = np.random.random((1000, 3))\n",
    "D = np.empty((1000, 1000))"
   ]
  },
  {
   "cell_type": "code",
   "execution_count": 10,
   "metadata": {
    "collapsed": false
   },
   "outputs": [
    {
     "name": "stdout",
     "output_type": "stream",
     "text": [
      "pairwise_hope(float64^2 X, float64^2 D, int64 M, int64 N)\n",
      "\tfor i.l in (0.J:M.J) {\n",
      "\t\tfor j.l in (0.J:M.J) {\n",
      "\t\t\tnew d.D\n",
      "\t\t\td.D = 0.0.D\n",
      "\t\t\tfor k.l in (0.J:N.J) {\n",
      "\t\t\t\tnew tmp.d\n",
      "\t\t\t\ttmp.d = (X.d[i.l, k.l] - X.d[j.l, k.l])\n",
      "\t\t\t\td.D += (tmp.d * tmp.d)\n",
      "\t\t\t}\n",
      "\t\t\tD.d[i.l, j.l] = numpy.sqrt(d.D)\n",
      "\t\t}\n",
      "\t}\n",
      "\n",
      "Compiling following functions:\n",
      "pairwise_hope(float64^2 X, float64^2 D, int64 M, int64 N)\n",
      "running build_ext\n",
      "building 'pairwise_hope_f82cb8a6ea3aecbde9f728fa85088b51f5bdf7d8ef8b740b9c0b788a_0' extension\n",
      "C compiler: /usr/bin/clang -fno-strict-aliasing -fno-common -dynamic -pipe -Os -fwrapv -DNDEBUG -g -fwrapv -O3 -Wall\n",
      "\n",
      "compile options: '-I/Users/jakeret/workspace/virtualenvs/hope_numba_benchmarks/lib/python2.7/site-packages/numpy/core/include -I/opt/local/Library/Frameworks/Python.framework/Versions/2.7/include/python2.7 -c'\n",
      "extra options: '-Wall -Wno-unused-variable -march=native -stdlib=libc++ -std=c++11'\n",
      "clang: /var/folders/k_/ttz9cd4d3kj2kbh3lvtn6tkm0000gn/T/hopen1VeFP/pairwise_hope_f82cb8a6ea3aecbde9f728fa85088b51f5bdf7d8ef8b740b9c0b788a_0.cpp\n",
      "/usr/bin/clang++ -bundle -undefined dynamic_lookup -L/opt/local/lib -Wl,-headerpad_max_install_names -L/opt/local/lib/db48 /var/folders/k_/ttz9cd4d3kj2kbh3lvtn6tkm0000gn/T/hopen1VeFP/pairwise_hope_f82cb8a6ea3aecbde9f728fa85088b51f5bdf7d8ef8b740b9c0b788a_0.o -o /var/folders/k_/ttz9cd4d3kj2kbh3lvtn6tkm0000gn/T/hopen1VeFP/pairwise_hope_f82cb8a6ea3aecbde9f728fa85088b51f5bdf7d8ef8b740b9c0b788a_0.so\n",
      "\n"
     ]
    }
   ],
   "source": [
    "D1 = np.empty((1000, 1000))\n",
    "D2 = np.empty((1000, 1000))\n",
    "D3 = np.empty((1000, 1000))\n",
    "D4 = np.empty((1000, 1000))\n",
    "D5 = np.empty((1000, 1000))\n",
    "D6 = np.empty((1000, 1000))\n",
    "\n",
    "pairwise_python(X, D1)\n",
    "pairwise_numpy(X, D2)\n",
    "pairwise_numba(X, D3)\n",
    "#pairwise_cython(X, D4)\n",
    "pairwise_hope(X, D5, X.shape[0], X.shape[1])\n",
    "pairwise_native(X, D6, X.shape[0], X.shape[1])\n",
    "\n",
    "assert np.allclose(D1, D2)\n",
    "assert np.allclose(D1, D3)\n",
    "assert np.allclose(D1, D4)\n",
    "assert np.allclose(D1, D5)\n",
    "assert np.allclose(D1, D6)\n"
   ]
  },
  {
   "cell_type": "code",
   "execution_count": 11,
   "metadata": {
    "collapsed": false
   },
   "outputs": [
    {
     "name": "stdout",
     "output_type": "stream",
     "text": [
      "naive python\n",
      "1 loops, best of 3: 5.98 s per loop\n",
      "numpy\n",
      "10 loops, best of 3: 38.4 ms per loop\n",
      "numba\n",
      "100 loops, best of 3: 4.45 ms per loop\n",
      "cython\n",
      "hope\n",
      "100 loops, best of 3: 7.96 ms per loop\n",
      "native\n",
      "100 loops, best of 3: 4.3 ms per loop\n"
     ]
    }
   ],
   "source": [
    "print \"naive python\"\n",
    "%timeit pairwise_python(X, D)\n",
    "print \"numpy\"\n",
    "%timeit pairwise_numpy(X, D)\n",
    "print \"numba\"\n",
    "%timeit pairwise_numba(X, D)\n",
    "print \"cython\"\n",
    "#%timeit pairwise_cython(X, D)\n",
    "print \"hope\"\n",
    "%timeit pairwise_hope(X, D, X.shape[0], X.shape[1])\n",
    "print \"native\"\n",
    "%timeit pairwise_native(X, D, X.shape[0], X.shape[1])"
   ]
  },
  {
   "cell_type": "code",
   "execution_count": 12,
   "metadata": {
    "collapsed": false
   },
   "outputs": [],
   "source": [
    "from util import perf_comp_data"
   ]
  },
  {
   "cell_type": "code",
   "execution_count": 14,
   "metadata": {
    "collapsed": false
   },
   "outputs": [
    {
     "name": "stdout",
     "output_type": "stream",
     "text": [
      "function: pairwise_numba      , av. time sec:   0.00467312, min. time sec:   0.00453520, relative:       1.0\n",
      "function: pairwise_native     , av. time sec:   0.00484359, min. time sec:   0.00457597, relative:       1.0\n",
      "function: pairwise_hope       , av. time sec:   0.00881946, min. time sec:   0.00793386, relative:       1.9\n",
      "function: pairwise_numpy      , av. time sec:   0.04122066, min. time sec:   0.03978014, relative:       8.8\n",
      "function: pairwise_python     , av. time sec:   6.10364544, min. time sec:   5.95258522, relative:    1306.1\n"
     ]
    }
   ],
   "source": [
    "M, N = X.shape\n",
    "data_list = 3*[\"X, D\"]+ 2*[\"X, D, M, N\"]\n",
    "#print data_list\n",
    "perf_comp_data([\"pairwise_python\", \n",
    "                \"pairwise_numpy\", \n",
    "                \"pairwise_numba\", \n",
    "                #\"pairwise_cython\", \n",
    "                \"pairwise_hope\",\n",
    "                \"pairwise_native\"],\n",
    "               data_list, rep=10)"
   ]
  },
  {
   "cell_type": "code",
   "execution_count": null,
   "metadata": {
    "collapsed": false
   },
   "outputs": [],
   "source": []
  }
 ],
 "metadata": {
  "kernelspec": {
   "display_name": "Python 2",
   "language": "python",
   "name": "python2"
  },
  "language_info": {
   "codemirror_mode": {
    "name": "ipython",
    "version": 2
   },
   "file_extension": ".py",
   "mimetype": "text/x-python",
   "name": "python",
   "nbconvert_exporter": "python",
   "pygments_lexer": "ipython2",
   "version": "2.7.10"
  }
 },
 "nbformat": 4,
 "nbformat_minor": 0
}
