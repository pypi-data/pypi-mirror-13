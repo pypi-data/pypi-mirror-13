{
 "metadata": {
  "name": "",
  "signature": "sha256:e110a97fcdd4e4d9f124f993eb9c51da9cbca5eb3eeb5a9063e11315587d85cf"
 },
 "nbformat": 3,
 "nbformat_minor": 0,
 "worksheets": [
  {
   "cells": [
    {
     "cell_type": "code",
     "collapsed": false,
     "input": [
      "import numpy as np\n",
      "import hope\n",
      "hope.config.verbose = True\n",
      "\n",
      "\n",
      "\n",
      "@hope.jit\n",
      "def pdf(density, dims, center, w2D, r50, b, a):\n",
      "    for x in range(dims[0]):\n",
      "        for y in range(dims[1]):\n",
      "            dr = np.sqrt((x - center[0]) ** 2 + (y - center[1]) ** 2)\n",
      "            density[x, y] = np.sum(w2D * 2 * (b - 1) / (2 * np.pi * (r50 * a)**2) * (1 + (dr / (r50 * a))**2)**(-b))\n",
      "    return density\n",
      "\n",
      "import numpy as np; \n",
      "b = 3.5; \n",
      "a = 1. / np.sqrt(2. ** (1. / (b - 1.)) - 1.) ; \n",
      "r50=20;\n",
      "center = np.array([10.141, 10.414]);\n",
      "dims = np.array([20, 20]) ; \n",
      "x1D = np.array([ 0.5 - 0.9491079123427585245262 / 2 , 0.5 - 0.7415311855993944398639 / 2 , 0.5 - 0.4058451513773971669066 / 2 , 0.5 , 0.5 + 0.4058451513773971669066 / 2 , 0.5 + 0.7415311855993944398639 / 2 , 0.5 + 0.9491079123427585245262 / 2 ], dtype=np.float32) ; \n",
      "w1D = np.array([ 0.1294849661688696932706 / 2 , 0.2797053914892766679015 / 2 , 0.38183005050511894495 / 2 , 0.4179591836734693877551 / 2 , 0.38183005050511894495 / 2 , 0.2797053914892766679015 / 2 , 0.1294849661688696932706 / 2 ], dtype=np.float32) ; \n",
      "w2D = np.outer(w1D, w1D) ; \n",
      "\n",
      "density = np.zeros(dims, dtype=np.float32)\n"
     ],
     "language": "python",
     "metadata": {},
     "outputs": [],
     "prompt_number": 1
    },
    {
     "cell_type": "code",
     "collapsed": false,
     "input": [
      "from native_util import load\n",
      "\n",
      "native_pdf_mod = load(\"pdf\")\n",
      "native_pdf = native_pdf_mod.run"
     ],
     "language": "python",
     "metadata": {},
     "outputs": [
      {
       "output_type": "stream",
       "stream": "stdout",
       "text": [
        "running build_ext\n",
        "building 'pdf' extension\n",
        "C compiler: /usr/bin/clang -fno-strict-aliasing -fno-common -dynamic -pipe -Os -fwrapv -DNDEBUG -g -fwrapv -O3 -Wall\n",
        "\n",
        "compile options: '-I/Users/jakeret/Library/Python/2.7/lib/python/site-packages/numpy/core/include -I/opt/local/Library/Frameworks/Python.framework/Versions/2.7/include/python2.7 -c'\n",
        "extra options: '-Wall -Wno-unused-variable -march=native -stdlib=libc++ -std=c++11'\n",
        "clang: ././src/pdf.cpp\n",
        "/usr/bin/clang++ -bundle -undefined dynamic_lookup -L/opt/local/lib -Wl,-headerpad_max_install_names -L/opt/local/lib/db48 ./src/pdf.o -o ./pdf.so\n",
        "\n"
       ]
      }
     ],
     "prompt_number": 4
    },
    {
     "cell_type": "code",
     "collapsed": false,
     "input": [
      "%timeit pdf(density, dims, center, w2D, r50, b, a)"
     ],
     "language": "python",
     "metadata": {},
     "outputs": [
      {
       "output_type": "stream",
       "stream": "stdout",
       "text": [
        "10000 loops, best of 3: 106 \u00b5s per loop\n"
       ]
      }
     ],
     "prompt_number": 5
    },
    {
     "cell_type": "code",
     "collapsed": false,
     "input": [
      "%timeit native_pdf(density, dims, center, w2D, r50, b, a)"
     ],
     "language": "python",
     "metadata": {},
     "outputs": [
      {
       "output_type": "stream",
       "stream": "stdout",
       "text": [
        "10000 loops, best of 3: 53.5 \u00b5s per loop\n"
       ]
      }
     ],
     "prompt_number": 6
    },
    {
     "cell_type": "code",
     "collapsed": false,
     "input": [],
     "language": "python",
     "metadata": {},
     "outputs": []
    }
   ],
   "metadata": {}
  }
 ]
}