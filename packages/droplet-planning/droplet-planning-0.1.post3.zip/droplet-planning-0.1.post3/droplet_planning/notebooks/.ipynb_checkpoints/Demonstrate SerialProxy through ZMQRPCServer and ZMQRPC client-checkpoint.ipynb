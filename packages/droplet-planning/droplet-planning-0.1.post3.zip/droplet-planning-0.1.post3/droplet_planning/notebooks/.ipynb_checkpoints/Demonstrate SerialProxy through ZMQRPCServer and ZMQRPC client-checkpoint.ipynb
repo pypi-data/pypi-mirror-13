{
 "cells": [
  {
   "cell_type": "code",
   "execution_count": 1,
   "metadata": {
    "collapsed": false
   },
   "outputs": [],
   "source": [
    "import sys\n",
    "import traceback\n",
    "\n",
    "from serial import Serial, SerialException\n",
    "from zmqrpc.server import ZMQRPCServer\n",
    "from teensy_minimal_rpc import SerialProxy\n",
    "\n",
    "\n",
    "server = ZMQRPCServer(SerialProxy)\n",
    "try:\n",
    "    server.queue('tcp://*:5000', thread=True)\n",
    "    server.work()\n",
    "except:\n",
    "    etype, evalue, etb = sys.exc_info()\n",
    "    print \"\\n\".join(traceback.format_exception(etype, evalue, etb))"
   ]
  },
  {
   "cell_type": "code",
   "execution_count": 2,
   "metadata": {
    "collapsed": false
   },
   "outputs": [
    {
     "name": "stdout",
     "output_type": "stream",
     "text": [
      "Created: <teensy_minimal_rpc.proxy.SerialProxy object at 0x0396D7D0>\n"
     ]
    }
   ],
   "source": [
    "%matplotlib inline"
   ]
  },
  {
   "cell_type": "code",
   "execution_count": 3,
   "metadata": {
    "collapsed": true
   },
   "outputs": [],
   "source": [
    "from si_prefix import si_format\n",
    "from zmqrpc.client import ZMQRPC\n",
    "import matplotlib.pyplot as plt\n",
    "\n",
    "\n",
    "client = ZMQRPC('tcp://localhost:5000')"
   ]
  },
  {
   "cell_type": "code",
   "execution_count": 4,
   "metadata": {
    "collapsed": false
   },
   "outputs": [
    {
     "data": {
      "text/plain": [
       "<matplotlib.text.Text at 0xcba6850>"
      ]
     },
     "execution_count": 4,
     "metadata": {},
     "output_type": "execute_result"
    },
    {
     "data": {
      "image/png": "[encoded data removed]",
      "text/plain": [
       "<matplotlib.figure.Figure at 0xc854f10>"
      ]
     },
     "metadata": {},
     "output_type": "display_data"
    }
   ],
   "source": [
    "sample_rate_hz, adc_settings, df_volts, df_adc_raw = client.analog_reads('A0', 50, sampling_rate_hz=10e3)\n",
    "\n",
    "df_volts.index *= 1. / sample_rate_hz\n",
    "df_adc_raw.index *= 1. / sample_rate_hz\n",
    "\n",
    "fig, axis = plt.subplots(figsize=(15, 5))\n",
    "colors = axis._get_lines.color_cycle\n",
    "\n",
    "df_volts.plot(ylim=(0, 1.05 * df_volts.values.max()), ax=axis, marker='x',\n",
    "              linestyle='none', color=colors.next())\n",
    "raw_axis = axis.twinx()\n",
    "df_adc_raw.plot(ylim=(0, 1.05 * (1 << adc_settings['Bit-width'])), ax=raw_axis, style='-',\n",
    "                color=colors.next())\n",
    "\n",
    "for ax, xy, unit in ((axis, 'x', 's'), (axis, 'y', 'V'), (raw_axis, 'y', '')):\n",
    "    getattr(ax, 'set_%sticklabels' % xy)(['%s%s' % (si_format(v, 1), unit)\n",
    "                                          for v in getattr(ax, 'get_%sticks' % xy)()])\n",
    "\n",
    "axis.set_xlabel('Time (sample rate: %sHz)' % si_format(sample_rate_hz, 0))\n",
    "axis.set_ylabel('Volts')\n",
    "raw_axis.set_ylabel('Raw ADC (%s-bit)' % adc_settings['Bit-width'])"
   ]
  }
 ],
 "metadata": {
  "kernelspec": {
   "display_name": "Python 2",
   "language": "python",
   "name": "python2"
  },
  "language_info": {
   "codemirror_mode": {
    "name": "ipython",
    "version": 2
   },
   "file_extension": ".py",
   "mimetype": "text/x-python",
   "name": "python",
   "nbconvert_exporter": "python",
   "pygments_lexer": "ipython2",
   "version": "2.7.9"
  }
 },
 "nbformat": 4,
 "nbformat_minor": 0
}
